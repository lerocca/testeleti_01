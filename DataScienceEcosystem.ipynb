{
 "cells": [
  {
   "cell_type": "markdown",
   "id": "c07e6c99-a6a1-4928-b5b1-8e5fd5bd42ba",
   "metadata": {},
   "source": [
    "# Data Science Tools and Ecosystem"
   ]
  },
  {
   "cell_type": "markdown",
   "id": "867d3553-8bd8-4704-955d-40b9a93608d5",
   "metadata": {},
   "source": [
    "In this notebook, Data Science Tools and Ecosystem are summarized."
   ]
  },
  {
   "cell_type": "markdown",
   "id": "12d24245-b223-40ac-884c-fae81f566846",
   "metadata": {},
   "source": [
    "**Objectives:**\n",
    "- learn how to use markdowns\n",
    "- learn how to create arthmetic expressions\n",
    "- learn how to insert a list"
   ]
  },
  {
   "cell_type": "markdown",
   "id": "b46450a9-20c2-4dc9-98e3-34d3a712172a",
   "metadata": {},
   "source": [
    "Some of the popular languages that Data Scientists use are:"
   ]
  },
  {
   "cell_type": "markdown",
   "id": "2ab43859-2c21-4049-8dee-1b8dc9c69495",
   "metadata": {},
   "source": [
    "1. Python\n",
    "2. Java\n",
    "3. Sql\n",
    "4. R"
   ]
  },
  {
   "cell_type": "markdown",
   "id": "b9e43c46-5dc7-4c1c-8ad1-2586cda7f597",
   "metadata": {},
   "source": [
    "Some of the commonly used libraries used by Data Scientists include:"
   ]
  },
  {
   "cell_type": "markdown",
   "id": "f58c2238-3b7b-4555-8369-73a4087faab2",
   "metadata": {},
   "source": [
    "1. 'NumPy'\n",
    "2. Pandas\n",
    "3. Plotly\n",
    "4. Matplotlib"
   ]
  },
  {
   "cell_type": "markdown",
   "id": "220e5b9f-f86d-48fa-8ca9-94bbfe9dbc62",
   "metadata": {},
   "source": [
    "|Data Science Tools|\n",
    "|------------------|\n",
    "|Apache spark|\n",
    "|Apache hadoop|\n",
    "|knime|"
   ]
  },
  {
   "cell_type": "markdown",
   "id": "5eba81dd-9ba7-4e4b-a24c-c5279cb6afa8",
   "metadata": {},
   "source": [
    "### Below are a few examples of evaluating arithmetic expressions in Python"
   ]
  },
  {
   "cell_type": "code",
   "execution_count": 4,
   "id": "f2987d0e-b4c1-4840-8743-b032e5d111a2",
   "metadata": {},
   "outputs": [
    {
     "data": {
      "text/plain": [
       "17"
      ]
     },
     "execution_count": 4,
     "metadata": {},
     "output_type": "execute_result"
    }
   ],
   "source": [
    "#This a simple arithmetic expression to mutiply then add integers\n",
    "(3*4)+5\n"
   ]
  },
  {
   "cell_type": "code",
   "execution_count": 6,
   "id": "120800b9-38b7-47d2-bfdb-d36f1ee47487",
   "metadata": {},
   "outputs": [
    {
     "data": {
      "text/plain": [
       "3.3333333333333335"
      ]
     },
     "execution_count": 6,
     "metadata": {},
     "output_type": "execute_result"
    }
   ],
   "source": [
    "#This will convert 200 minutes to hours by dividing to 60\n",
    "200/60"
   ]
  },
  {
   "cell_type": "markdown",
   "id": "a8ffb376-710f-461e-8996-23b61201c913",
   "metadata": {},
   "source": [
    "## Author:"
   ]
  },
  {
   "cell_type": "markdown",
   "id": "ee30a2d7-c0ca-4c79-a5e7-539ba5c456ef",
   "metadata": {},
   "source": [
    "Leticia Rocca"
   ]
  },
  {
   "cell_type": "code",
   "execution_count": null,
   "id": "175b2029-e0e7-4813-aecd-4d0ccdf0a669",
   "metadata": {},
   "outputs": [],
   "source": []
  }
 ],
 "metadata": {
  "kernelspec": {
   "display_name": "Python 3 (ipykernel)",
   "language": "python",
   "name": "python3"
  },
  "language_info": {
   "codemirror_mode": {
    "name": "ipython",
    "version": 3
   },
   "file_extension": ".py",
   "mimetype": "text/x-python",
   "name": "python",
   "nbconvert_exporter": "python",
   "pygments_lexer": "ipython3",
   "version": "3.12.7"
  }
 },
 "nbformat": 4,
 "nbformat_minor": 5
}
